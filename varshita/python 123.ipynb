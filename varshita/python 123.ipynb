{
 "cells": [
  {
   "cell_type": "code",
   "execution_count": 1,
   "metadata": {},
   "outputs": [
    {
     "name": "stdout",
     "output_type": "stream",
     "text": [
      "90\n"
     ]
    }
   ],
   "source": [
    "def printeven(n):\n",
    "    cnt=0;\n",
    "    sum=0;\n",
    "    while(cnt!=n):\n",
    "        if(cnt%2==0):\n",
    "            sum=sum+cnt;\n",
    "        cnt=cnt+1;\n",
    "    return sum;\n",
    "print(printeven(20));\n",
    "            \n",
    "            "
   ]
  },
  {
   "cell_type": "code",
   "execution_count": 2,
   "metadata": {},
   "outputs": [
    {
     "name": "stdout",
     "output_type": "stream",
     "text": [
      "90\n"
     ]
    }
   ],
   "source": [
    "def printeven(n):\n",
    "    cnt=0;\n",
    "    sum=0;\n",
    "    while(cnt!=n):\n",
    "        if(cnt%2==0):\n",
    "            sum=sum+cnt;\n",
    "        cnt=cnt+1;\n",
    "    return sum\n",
    "print(printeven(20));\n",
    "            "
   ]
  },
  {
   "cell_type": "code",
   "execution_count": 3,
   "metadata": {},
   "outputs": [
    {
     "name": "stdout",
     "output_type": "stream",
     "text": [
      "1  2  3  4  6  "
     ]
    }
   ],
   "source": [
    "def factorslist(n):\n",
    "    i=1;\n",
    "    while(i!=n):\n",
    "        if(n%i==0):\n",
    "            print(i,end=\"  \");\n",
    "        i=i+1;\n",
    "    return\n",
    "\n",
    "factorslist(12);"
   ]
  },
  {
   "cell_type": "code",
   "execution_count": 4,
   "metadata": {},
   "outputs": [
    {
     "name": "stdout",
     "output_type": "stream",
     "text": [
      "[1, 2, 3, 4, 5]\n",
      "2\n"
     ]
    }
   ],
   "source": [
    "list1=[1,2,3,4,5];\n",
    "print(list1);\n",
    "print(list1[1]);"
   ]
  },
  {
   "cell_type": "code",
   "execution_count": 5,
   "metadata": {},
   "outputs": [
    {
     "name": "stdout",
     "output_type": "stream",
     "text": [
      "akhil  b  c  d  "
     ]
    }
   ],
   "source": [
    "list2=[\"akhil\",\"b\",\"c\",\"d\"];\n",
    "for x in list2:\n",
    "    print(x,end=\"  \");"
   ]
  },
  {
   "cell_type": "code",
   "execution_count": 6,
   "metadata": {},
   "outputs": [
    {
     "name": "stdout",
     "output_type": "stream",
     "text": [
      "1  2  3  4  5  6  7  8  9  \n",
      "6\n",
      "[4, 5, 6, 7]\n",
      "[1, 2, 3]\n",
      "[1, 2, 3]\n",
      "[1, 2, 3, 4, 5, 6, 7]\n"
     ]
    }
   ],
   "source": [
    "list1=[1,2,3,4,5,6,7,8,9];\n",
    "for x in list1:\n",
    "    print(x,end=\"  \")\n",
    "print();\n",
    "print(list1[5]);\n",
    "print(list1[3:7]);\n",
    "print(list1[0:3]);\n",
    "print(list1[:3]);\n",
    "print(list1[:7]);\n"
   ]
  },
  {
   "cell_type": "code",
   "execution_count": 7,
   "metadata": {},
   "outputs": [
    {
     "name": "stdout",
     "output_type": "stream",
     "text": [
      "1  2  3  4  5  6  7  8  9  10  \n",
      "2\n",
      "9\n",
      "[2, 3, 4, 5, 6, 7, 8, 9]\n",
      "[1, 3, 5, 7, 9]\n",
      "10\n",
      "[1, 2, 3, 4, 5, 6, 7, 8, 9]\n",
      "1\n"
     ]
    }
   ],
   "source": [
    "lst=[1,2,3,4,5,6,7,8,9,10];\n",
    "for x in lst:\n",
    "    print(x,end=\"  \");\n",
    "print();\n",
    "print(lst[1]);\n",
    "print(lst[-2]);\n",
    "print(lst[1:-1]);\n",
    "print(lst[::2]);\n",
    "print(lst[-1]);\n",
    "print(lst[0:-1]);\n",
    "print(lst[0]);"
   ]
  },
  {
   "cell_type": "code",
   "execution_count": 8,
   "metadata": {},
   "outputs": [
    {
     "name": "stdout",
     "output_type": "stream",
     "text": [
      "[1, 2, 3, 4, 5, 6, 7, 8, 9, 10, 'python']\n",
      "[1, 2, 11, 4, 5, 6, 7, 8, 9, 10, 'python']\n",
      "[1, 2, 11, 5, 6, 7, 8, 9, 10, 'python']\n",
      "[1, 2, 11, 5, 6, 7, 8, 9, 10, 'python', 10, 9, 8, 7, 6, 5, 4, 3, 2, 1]\n"
     ]
    }
   ],
   "source": [
    "lst=[1,2,3,4,5,6,7,8,9,10];\n",
    "lst2=[\"python\"];\n",
    "lst=lst+lst2;\n",
    "print(lst);\n",
    "\n",
    "lst[2]=11;\n",
    "print(lst);\n",
    "\n",
    "del(lst[3]);\n",
    "print(lst);\n",
    "\n",
    "lst1=[10,9,8,7,6,5,4,3,2,1];\n",
    "print(lst+lst1);"
   ]
  },
  {
   "cell_type": "code",
   "execution_count": 9,
   "metadata": {},
   "outputs": [
    {
     "name": "stdout",
     "output_type": "stream",
     "text": [
      "[1, 2, 3, 4, 5]\n",
      "[1, 2, 4, 5]\n",
      "4\n",
      "[1, 2, 4, 5, 111]\n",
      "2\n",
      "[1, 2, 4, 5, 111, 1]\n",
      "3\n"
     ]
    }
   ],
   "source": [
    "lst1=[1,2,3,4,5];\n",
    "print(lst1);\n",
    "del(lst1[2]);\n",
    "print(lst1);\n",
    "print(len(lst1));\n",
    "lst1.append(111);\n",
    "print(lst1);\n",
    "lst1.append(1);\n",
    "print(lst1.count(1));\n",
    "print(lst1);\n",
    "lst1.append(2);\n",
    "lst1.append(2);\n",
    "print(lst1.count(2));"
   ]
  },
  {
   "cell_type": "code",
   "execution_count": 10,
   "metadata": {},
   "outputs": [
    {
     "name": "stdout",
     "output_type": "stream",
     "text": [
      "7\n",
      "[1, 2, 3, 4, 5, 6, [0.1, 0.2, 0.3]]\n"
     ]
    }
   ],
   "source": [
    "lst1=[1,2,3,4,5,6];\n",
    "lst2=[0.1,0.2,0.3];\n",
    "lst1.append(lst2);\n",
    "print(len(lst1));\n",
    "print(lst1);"
   ]
  },
  {
   "cell_type": "code",
   "execution_count": 11,
   "metadata": {},
   "outputs": [
    {
     "name": "stdout",
     "output_type": "stream",
     "text": [
      "['a', 'b', 'c', 'd', 'e', 'f']\n",
      "0\n",
      "6\n",
      "['a', 'b', 100, 'c', 'd', 'e', 'f']\n"
     ]
    }
   ],
   "source": [
    "lst1=[\"a\",\"b\",\"c\",\"d\",\"e\",\"f\"];\n",
    "print(lst1);\n",
    "print(lst1.index(\"a\"));\n",
    "print(len(lst1));\n",
    "lst1.insert(2,100);\n",
    "print(lst1);"
   ]
  },
  {
   "cell_type": "code",
   "execution_count": 12,
   "metadata": {},
   "outputs": [
    {
     "name": "stdout",
     "output_type": "stream",
     "text": [
      "[1, 2, 3, 1, 2, 4, 5, 6]\n",
      "[2, 3, 1, 2, 4, 5, 6]\n",
      "[2, 3, 1, 2, 5, 6]\n",
      "[6, 5, 2, 1, 3, 2]\n"
     ]
    }
   ],
   "source": [
    "lst2=[1,2,3,1,2,4,5,6];\n",
    "print(lst2);\n",
    "lst2.remove(1);\n",
    "print(lst2);\n",
    "lst2.remove(4);\n",
    "print(lst2);\n",
    "lst2.reverse();\n",
    "print(lst2);"
   ]
  },
  {
   "cell_type": "code",
   "execution_count": 13,
   "metadata": {},
   "outputs": [
    {
     "name": "stdout",
     "output_type": "stream",
     "text": [
      "target item is found\n"
     ]
    }
   ],
   "source": [
    "def linearsearch(a,taritem):\n",
    "    flag=0;\n",
    "    for i in range(len(a)):\n",
    "        if(a[i]==taritem):\n",
    "            flag=1;\n",
    "            break;\n",
    "    if(flag!=0):\n",
    "        print(\"target item is found\");\n",
    "    else:\n",
    "        print(\"target item is not found\");\n",
    "a=[16,8,100,1,64]\n",
    "linearsearch(a,100);   "
   ]
  },
  {
   "cell_type": "code",
   "execution_count": 14,
   "metadata": {},
   "outputs": [
    {
     "name": "stdout",
     "output_type": "stream",
     "text": [
      "1\n"
     ]
    }
   ],
   "source": [
    "def linearsearch(a,taritem):\n",
    "    flag=0;\n",
    "    for i in range(len(a)):\n",
    "        if(a[i]==taritem):\n",
    "            flag=flag+1;\n",
    "    print(flag)\n",
    "a=[16,8,100,1,64]\n",
    "linearsearch(a,100);   "
   ]
  },
  {
   "cell_type": "code",
   "execution_count": 15,
   "metadata": {},
   "outputs": [
    {
     "name": "stdout",
     "output_type": "stream",
     "text": [
      "2\n",
      "target item is found\n"
     ]
    }
   ],
   "source": [
    "def linearsearch(a,taritem):\n",
    "    flag=0;\n",
    "    for i in range(len(a)):\n",
    "        if(a[i]==taritem):\n",
    "            flag=1;\n",
    "            print(i);\n",
    "            break;\n",
    "    if(flag!=0):\n",
    "        print(\"target item is found\");\n",
    "    else:\n",
    "        print(\"target item is not found\");\n",
    "a=[16,8,100,1,64]\n",
    "linearsearch(a,100);   "
   ]
  },
  {
   "cell_type": "code",
   "execution_count": 16,
   "metadata": {},
   "outputs": [
    {
     "name": "stdout",
     "output_type": "stream",
     "text": [
      "!  !!!  !!!!!  "
     ]
    }
   ],
   "source": [
    "def linearsearch(a,taritem):\n",
    "    flag=0;\n",
    "    \n",
    "    for i in range(len(a)):\n",
    "        if(a[i]==taritem):\n",
    "            flag=flag+1;\n",
    "            y=0;\n",
    "            while(y<i):\n",
    "                print('!',end=\"\");\n",
    "                y=y+1;\n",
    "            print(end=\"  \");\n",
    "a=[2,6,8,6,7,6,3,5]\n",
    "linearsearch(a,6);   "
   ]
  },
  {
   "cell_type": "code",
   "execution_count": 17,
   "metadata": {},
   "outputs": [
    {
     "name": "stdout",
     "output_type": "stream",
     "text": [
      "3\n"
     ]
    }
   ],
   "source": [
    "def linsearch(a,taritem):\n",
    "    count=0;\n",
    "    for i in range(len(a)):\n",
    "        if(a[i]==taritem):\n",
    "            count=count+1;\n",
    "    print(count);\n",
    "a=[2,5,2,5,3,1,2]\n",
    "linsearch(a,2);\n"
   ]
  },
  {
   "cell_type": "code",
   "execution_count": 18,
   "metadata": {},
   "outputs": [
    {
     "name": "stdout",
     "output_type": "stream",
     "text": [
      "3\n"
     ]
    }
   ],
   "source": [
    "def linearsearch(a,taritem):\n",
    "    flag=0;\n",
    "    for i in range(len(a)):\n",
    "        if(a[i]==taritem):\n",
    "            flag=flag+1;\n",
    "    print(flag)\n",
    "a=[2,5,2,5,2,1,3]\n",
    "linearsearch(a,2);   "
   ]
  },
  {
   "cell_type": "code",
   "execution_count": 19,
   "metadata": {},
   "outputs": [
    {
     "name": "stdout",
     "output_type": "stream",
     "text": [
      "1 9 19 22 "
     ]
    }
   ],
   "source": [
    "def evenfun(a):\n",
    "    for i in range(len(a)):\n",
    "        if(i==0):\n",
    "            print(a[i],end=\" \");        \n",
    "        elif((a[i-1]%2==0)and(a[i+1]%2==0)):\n",
    "            print(a[i],end=\" \");\n",
    "        elif(i==(len(a)-1)):\n",
    "            print(a[i],end=\" \");\n",
    "        i+=1;\n",
    "a=[1,6,9,4,16,19,22]\n",
    "evenfun(a);\n",
    "        "
   ]
  },
  {
   "cell_type": "code",
   "execution_count": 21,
   "metadata": {},
   "outputs": [
    {
     "name": "stdout",
     "output_type": "stream",
     "text": [
      "enter a no.108\n",
      "found\n"
     ]
    }
   ],
   "source": [
    "def binsearch(a,x):\n",
    "    low=0;\n",
    "    high=len(a)-1;\n",
    "    while(low<=high):\n",
    "        mid=(low+high)//2;\n",
    "        if(x==a[mid]):\n",
    "            return 1;\n",
    "            break;\n",
    "        elif(x>a[mid]):\n",
    "            low=mid+1;\n",
    "        else:\n",
    "            high=mid-1;\n",
    "a=[1,8,16,60,87,98,108];\n",
    "x=int(input(\"enter a no.\"));\n",
    "v=binsearch(a,x);\n",
    "if(v==1):\n",
    "    print(\"found\");\n",
    "else:\n",
    "    print(\"not found\");"
   ]
  },
  {
   "cell_type": "code",
   "execution_count": null,
   "metadata": {},
   "outputs": [],
   "source": [
    "def bubble(a):\n",
    "    j=0;\n",
    "    while(j<=len(a)-2):\n",
    "        i=0;\n",
    "        while(i<=len(a)-2):\n",
    "            if(a[i]>a[i+1]):\n",
    "                t=a[i];\n",
    "                a[i]=a[i+1];\n",
    "                a[i+1]=t;\n",
    "    for k in range (len(a)):\n",
    "        print(a[i],end=\" \");\n",
    "a=[100,99,98,97,96,95,94,1];\n",
    "bubble(a);"
   ]
  },
  {
   "cell_type": "code",
   "execution_count": null,
   "metadata": {},
   "outputs": [],
   "source": [
    "def bsort(a):\n",
    "    for i in range (len(a)-1):\n",
    "        for j in range (len(a)-1):\n",
    "            if(a[j]>a[j+1]):\n",
    "                a[j],a[j+1]=a[j+1],a[j];\n",
    "    for i in range (len(a)):\n",
    "        print(a[i],end=\" \");\n",
    "a=[100,99,98,97,96,95];\n",
    "bsort(a);\n",
    "        "
   ]
  },
  {
   "cell_type": "code",
   "execution_count": null,
   "metadata": {},
   "outputs": [],
   "source": [
    "str=\"Python\";\n",
    "print(str);\n",
    "print(\"str[0]=\",str[0]);\n",
    "print(\"str[2]=\",str[2]);\n",
    "print(\"str[5]=\",str[5]);\n",
    "print(\"str[3]=\",str[3]);\n",
    "str1=\"Encyclopedia\";\n",
    "print(str1);\n",
    "print(\"str1[-1]=\",str1[-1]);\n",
    "print(\"str1[1:5]=\",str1[1:5]);\n",
    "print(\"str1[2:-2]=\",str1[5:-2]);\n",
    "print(\"str1[::-2]=\",str1[::-2]);"
   ]
  },
  {
   "cell_type": "code",
   "execution_count": 1,
   "metadata": {},
   "outputs": [
    {
     "name": "stdout",
     "output_type": "stream",
     "text": [
      "False\n",
      "True\n"
     ]
    }
   ],
   "source": [
    "def ispalindrome(s):\n",
    "    if s==s[::-1]:\n",
    "        return True\n",
    "    else:\n",
    "        return False\n",
    "    \n",
    "print(ispalindrome(\"python\"));\n",
    "print(ispalindrome(\"jalaj\"));"
   ]
  },
  {
   "cell_type": "code",
   "execution_count": 2,
   "metadata": {},
   "outputs": [
    {
     "name": "stdout",
     "output_type": "stream",
     "text": [
      "kn\n"
     ]
    }
   ],
   "source": [
    "s=\"anandkumar\"\n",
    "print(s[5::-4])"
   ]
  },
  {
   "cell_type": "code",
   "execution_count": 3,
   "metadata": {},
   "outputs": [
    {
     "data": {
      "text/plain": [
       "5"
      ]
     },
     "execution_count": 3,
     "metadata": {},
     "output_type": "execute_result"
    }
   ],
   "source": [
    "def countdigits(n):\n",
    "    return len(n);\n",
    "\n",
    "countdigits(\"12345\")"
   ]
  },
  {
   "cell_type": "code",
   "execution_count": 4,
   "metadata": {},
   "outputs": [
    {
     "name": "stdout",
     "output_type": "stream",
     "text": [
      "3\n"
     ]
    }
   ],
   "source": [
    "def upper(str):\n",
    "    cnt=0;\n",
    "    for i in range (len(str)):\n",
    "        if((ord(str[i])>=65)and(ord(str[i])<=90)):\n",
    "            cnt+=1;\n",
    "    print(cnt);\n",
    "str=\"abcABC123\";\n",
    "upper(str);"
   ]
  },
  {
   "cell_type": "code",
   "execution_count": 5,
   "metadata": {},
   "outputs": [
    {
     "name": "stdout",
     "output_type": "stream",
     "text": [
      "9\n"
     ]
    }
   ],
   "source": [
    "str=\"abcABC123\";\n",
    "print(len(str))"
   ]
  },
  {
   "cell_type": "code",
   "execution_count": 6,
   "metadata": {},
   "outputs": [
    {
     "name": "stdout",
     "output_type": "stream",
     "text": [
      "VARSHITA\n",
      "varshita\n"
     ]
    }
   ],
   "source": [
    "s=\"varshita\";\n",
    "print(s.upper());\n",
    "a=s.upper();\n",
    "print(a.lower());"
   ]
  },
  {
   "cell_type": "code",
   "execution_count": 6,
   "metadata": {},
   "outputs": [
    {
     "ename": "TypeError",
     "evalue": "'type' object is not subscriptable",
     "output_type": "error",
     "traceback": [
      "\u001b[1;31m---------------------------------------------------------------------------\u001b[0m",
      "\u001b[1;31mTypeError\u001b[0m                                 Traceback (most recent call last)",
      "\u001b[1;32m<ipython-input-6-5e55cc43970a>\u001b[0m in \u001b[0;36m<module>\u001b[1;34m\u001b[0m\n\u001b[0;32m      9\u001b[0m     \u001b[0mprint\u001b[0m\u001b[1;33m(\u001b[0m\u001b[0mstr\u001b[0m\u001b[1;33m)\u001b[0m\u001b[1;33m;\u001b[0m\u001b[1;33m\u001b[0m\u001b[1;33m\u001b[0m\u001b[0m\n\u001b[0;32m     10\u001b[0m \u001b[0ms\u001b[0m\u001b[1;33m=\u001b[0m\u001b[1;34m\"encyclopedia\"\u001b[0m\u001b[1;33m;\u001b[0m\u001b[1;33m\u001b[0m\u001b[1;33m\u001b[0m\u001b[0m\n\u001b[1;32m---> 11\u001b[1;33m \u001b[0mconvert\u001b[0m\u001b[1;33m(\u001b[0m\u001b[0ms\u001b[0m\u001b[1;33m)\u001b[0m\u001b[1;33m\u001b[0m\u001b[1;33m\u001b[0m\u001b[0m\n\u001b[0m\u001b[0;32m     12\u001b[0m \u001b[1;33m\u001b[0m\u001b[0m\n\u001b[0;32m     13\u001b[0m \u001b[1;33m\u001b[0m\u001b[0m\n",
      "\u001b[1;32m<ipython-input-6-5e55cc43970a>\u001b[0m in \u001b[0;36mconvert\u001b[1;34m(s)\u001b[0m\n\u001b[0;32m      1\u001b[0m \u001b[1;32mdef\u001b[0m \u001b[0mconvert\u001b[0m\u001b[1;33m(\u001b[0m\u001b[0ms\u001b[0m\u001b[1;33m)\u001b[0m\u001b[1;33m:\u001b[0m\u001b[1;33m\u001b[0m\u001b[1;33m\u001b[0m\u001b[0m\n\u001b[0;32m      2\u001b[0m     \u001b[1;32mfor\u001b[0m \u001b[0mi\u001b[0m \u001b[1;32min\u001b[0m \u001b[0mrange\u001b[0m \u001b[1;33m(\u001b[0m\u001b[0mlen\u001b[0m\u001b[1;33m(\u001b[0m\u001b[0ms\u001b[0m\u001b[1;33m)\u001b[0m\u001b[1;33m)\u001b[0m\u001b[1;33m:\u001b[0m\u001b[1;33m\u001b[0m\u001b[1;33m\u001b[0m\u001b[0m\n\u001b[1;32m----> 3\u001b[1;33m         \u001b[1;32mif\u001b[0m\u001b[1;33m(\u001b[0m\u001b[1;33m(\u001b[0m\u001b[0mord\u001b[0m\u001b[1;33m(\u001b[0m\u001b[0mstr\u001b[0m\u001b[1;33m[\u001b[0m\u001b[0mi\u001b[0m\u001b[1;33m]\u001b[0m\u001b[1;33m)\u001b[0m\u001b[1;33m>=\u001b[0m\u001b[1;36m65\u001b[0m\u001b[1;33m)\u001b[0m\u001b[1;32mand\u001b[0m\u001b[1;33m(\u001b[0m\u001b[0mord\u001b[0m\u001b[1;33m(\u001b[0m\u001b[0mstr\u001b[0m\u001b[1;33m[\u001b[0m\u001b[0mi\u001b[0m\u001b[1;33m]\u001b[0m\u001b[1;33m)\u001b[0m\u001b[1;33m<=\u001b[0m\u001b[1;36m90\u001b[0m\u001b[1;33m)\u001b[0m\u001b[1;33m)\u001b[0m\u001b[1;33m:\u001b[0m\u001b[1;33m\u001b[0m\u001b[1;33m\u001b[0m\u001b[0m\n\u001b[0m\u001b[0;32m      4\u001b[0m             \u001b[0mm\u001b[0m\u001b[1;33m=\u001b[0m\u001b[0mord\u001b[0m\u001b[1;33m(\u001b[0m\u001b[0mstr\u001b[0m\u001b[1;33m[\u001b[0m\u001b[0mi\u001b[0m\u001b[1;33m]\u001b[0m\u001b[1;33m)\u001b[0m\u001b[1;33m+\u001b[0m\u001b[1;36m32\u001b[0m\u001b[1;33m;\u001b[0m\u001b[1;33m\u001b[0m\u001b[1;33m\u001b[0m\u001b[0m\n\u001b[0;32m      5\u001b[0m             \u001b[0mprint\u001b[0m\u001b[1;33m(\u001b[0m\u001b[0mm\u001b[0m\u001b[1;33m)\u001b[0m\u001b[1;33m;\u001b[0m\u001b[1;33m\u001b[0m\u001b[1;33m\u001b[0m\u001b[0m\n",
      "\u001b[1;31mTypeError\u001b[0m: 'type' object is not subscriptable"
     ]
    }
   ],
   "source": [
    "def convert(s):\n",
    "    for i in range (len(s)):\n",
    "        if((ord(str[i])>=65)and(ord(str[i])<=90)):\n",
    "            m=ord(str[i])+32;\n",
    "            print(m);\n",
    "        elif((ord(str[i])>=97)and(ord(str[i])<=122)):\n",
    "            n=ord(str[i])-32;\n",
    "            print(n);\n",
    "    print(str);\n",
    "s=\"encyclopedia\";\n",
    "convert(s)\n",
    "            \n",
    "    "
   ]
  },
  {
   "cell_type": "code",
   "execution_count": 11,
   "metadata": {},
   "outputs": [
    {
     "data": {
      "text/plain": [
       "26"
      ]
     },
     "execution_count": 11,
     "metadata": {},
     "output_type": "execute_result"
    }
   ],
   "source": [
    "def sumofdigits(str):\n",
    "    sum=0\n",
    "    lst=list(str);\n",
    "    for x in range(len(lst)):\n",
    "        if ord(lst[x])>=48 and ord(lst[x])<=57:\n",
    "            sum=sum+ord(lst[x])-48;\n",
    "    return sum\n",
    "sumofdigits(\"application1889\")"
   ]
  },
  {
   "cell_type": "code",
   "execution_count": 14,
   "metadata": {},
   "outputs": [
    {
     "name": "stdout",
     "output_type": "stream",
     "text": [
      "20\n"
     ]
    }
   ],
   "source": [
    "def sumofevendigits(str):\n",
    "    sum=0;\n",
    "    for i in range(len(str)):\n",
    "        if ord(str[i])>=48 and ord(str[i])<=57:\n",
    "            x=ord(str[i])-48;\n",
    "            if(x%2==0):\n",
    "                sum=sum+x;\n",
    "    print(sum);\n",
    "sumofevendigits(\"1a2b3c4d5e6f7g8h\");\n",
    "\n",
    "            \n",
    "        \n",
    "    "
   ]
  },
  {
   "cell_type": "code",
   "execution_count": 3,
   "metadata": {},
   "outputs": [
    {
     "name": "stdout",
     "output_type": "stream",
     "text": [
      "ABCDEFGHIJ\n",
      "abcdefghij\n"
     ]
    }
   ],
   "source": [
    "str=\"aBcDeFgHiJ\";\n",
    "print(str.upper());\n",
    "print(str.lower());\n"
   ]
  },
  {
   "cell_type": "code",
   "execution_count": 4,
   "metadata": {},
   "outputs": [
    {
     "name": "stdout",
     "output_type": "stream",
     "text": [
      "False\n",
      "True\n"
     ]
    }
   ],
   "source": [
    "s=\"ABCDEF\";\n",
    "print(s.islower());\n",
    "print(s.isupper());\n"
   ]
  },
  {
   "cell_type": "code",
   "execution_count": 5,
   "metadata": {},
   "outputs": [
    {
     "name": "stdout",
     "output_type": "stream",
     "text": [
      "True\n",
      "False\n"
     ]
    }
   ],
   "source": [
    "s=\"567890\";\n",
    "s1=\"app123\";\n",
    "print(s.isnumeric());\n",
    "print(s1.isnumeric());\n"
   ]
  },
  {
   "cell_type": "code",
   "execution_count": 6,
   "metadata": {},
   "outputs": [
    {
     "name": "stdout",
     "output_type": "stream",
     "text": [
      "True\n",
      "False\n"
     ]
    }
   ],
   "source": [
    "s=\"alphabet\";\n",
    "s1=\"alpha123\";\n",
    "print(s.isalpha());\n",
    "print(s1.isalpha());"
   ]
  },
  {
   "cell_type": "code",
   "execution_count": null,
   "metadata": {},
   "outputs": [],
   "source": []
  }
 ],
 "metadata": {
  "kernelspec": {
   "display_name": "Python 3",
   "language": "python",
   "name": "python3"
  },
  "language_info": {
   "codemirror_mode": {
    "name": "ipython",
    "version": 3
   },
   "file_extension": ".py",
   "mimetype": "text/x-python",
   "name": "python",
   "nbconvert_exporter": "python",
   "pygments_lexer": "ipython3",
   "version": "3.7.3"
  }
 },
 "nbformat": 4,
 "nbformat_minor": 2
}
