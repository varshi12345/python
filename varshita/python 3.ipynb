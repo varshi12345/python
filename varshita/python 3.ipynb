{
 "cells": [
  {
   "cell_type": "code",
   "execution_count": null,
   "metadata": {},
   "outputs": [],
   "source": [
    "def printeven(n):\n",
    "    cnt=0;\n",
    "    sum=0;\n",
    "    while(cnt!=n):\n",
    "        if(cnt%2==0):\n",
    "            sum=sum+cnt;\n",
    "        cnt=cnt+1;\n",
    "    return sum;\n",
    "print(printeven(20));\n",
    "            \n",
    "            "
   ]
  },
  {
   "cell_type": "code",
   "execution_count": 3,
   "metadata": {},
   "outputs": [
    {
     "name": "stdout",
     "output_type": "stream",
     "text": [
      "90\n"
     ]
    }
   ],
   "source": [
    "def printeven(n):\n",
    "    cnt=0;\n",
    "    sum=0;\n",
    "    while(cnt!=n):\n",
    "        if(cnt%2==0):\n",
    "            sum=sum+cnt;\n",
    "        cnt=cnt+1;\n",
    "    return sum\n",
    "print(printeven(20));\n",
    "            "
   ]
  },
  {
   "cell_type": "code",
   "execution_count": 6,
   "metadata": {},
   "outputs": [
    {
     "name": "stdout",
     "output_type": "stream",
     "text": [
      "1  2  3  4  6  "
     ]
    }
   ],
   "source": [
    "def factorslist(n):\n",
    "    i=1;\n",
    "    while(i!=n):\n",
    "        if(n%i==0):\n",
    "            print(i,end=\"  \");\n",
    "        i=i+1;\n",
    "    return\n",
    "\n",
    "factorslist(12);"
   ]
  },
  {
   "cell_type": "code",
   "execution_count": 9,
   "metadata": {},
   "outputs": [
    {
     "name": "stdout",
     "output_type": "stream",
     "text": [
      "[1, 2, 3, 4, 5]\n",
      "2\n"
     ]
    }
   ],
   "source": [
    "list1=[1,2,3,4,5];\n",
    "print(list1);\n",
    "print(list1[1]);"
   ]
  },
  {
   "cell_type": "code",
   "execution_count": 11,
   "metadata": {},
   "outputs": [
    {
     "name": "stdout",
     "output_type": "stream",
     "text": [
      "akhil  b  c  d  "
     ]
    }
   ],
   "source": [
    "list2=[\"akhil\",\"b\",\"c\",\"d\"];\n",
    "for x in list2:\n",
    "    print(x,end=\"  \");"
   ]
  },
  {
   "cell_type": "code",
   "execution_count": 12,
   "metadata": {},
   "outputs": [
    {
     "name": "stdout",
     "output_type": "stream",
     "text": [
      "1  2  3  4  5  6  7  8  9  \n",
      "6\n",
      "[4, 5, 6, 7]\n",
      "[1, 2, 3]\n",
      "[1, 2, 3]\n",
      "[1, 2, 3, 4, 5, 6, 7]\n"
     ]
    }
   ],
   "source": [
    "list1=[1,2,3,4,5,6,7,8,9];\n",
    "for x in list1:\n",
    "    print(x,end=\"  \")\n",
    "print();\n",
    "print(list1[5]);\n",
    "print(list1[3:7]);\n",
    "print(list1[0:3]);\n",
    "print(list1[:3]);\n",
    "print(list1[:7]);\n"
   ]
  },
  {
   "cell_type": "code",
   "execution_count": 25,
   "metadata": {},
   "outputs": [
    {
     "name": "stdout",
     "output_type": "stream",
     "text": [
      "1  2  3  4  5  6  7  8  9  10  \n",
      "2\n",
      "9\n",
      "[2, 3, 4, 5, 6, 7, 8, 9]\n",
      "[1, 3, 5, 7, 9]\n",
      "10\n",
      "[1, 2, 3, 4, 5, 6, 7, 8, 9]\n",
      "1\n"
     ]
    }
   ],
   "source": [
    "lst=[1,2,3,4,5,6,7,8,9,10];\n",
    "for x in lst:\n",
    "    print(x,end=\"  \");\n",
    "print();\n",
    "print(lst[1]);\n",
    "print(lst[-2]);\n",
    "print(lst[1:-1]);\n",
    "print(lst[::2]);\n",
    "print(lst[-1]);\n",
    "print(lst[0:-1]);\n",
    "print(lst[0]);"
   ]
  },
  {
   "cell_type": "code",
   "execution_count": 34,
   "metadata": {},
   "outputs": [
    {
     "name": "stdout",
     "output_type": "stream",
     "text": [
      "[1, 2, 3, 4, 5, 6, 7, 8, 9, 10, 'python']\n",
      "[1, 2, 11, 4, 5, 6, 7, 8, 9, 10, 'python']\n",
      "[1, 2, 11, 5, 6, 7, 8, 9, 10, 'python']\n",
      "[1, 2, 11, 5, 6, 7, 8, 9, 10, 'python', 10, 9, 8, 7, 6, 5, 4, 3, 2, 1]\n"
     ]
    }
   ],
   "source": [
    "lst=[1,2,3,4,5,6,7,8,9,10];\n",
    "lst2=[\"python\"];\n",
    "lst=lst+lst2;\n",
    "print(lst);\n",
    "\n",
    "lst[2]=11;\n",
    "print(lst);\n",
    "\n",
    "del(lst[3]);\n",
    "print(lst);\n",
    "\n",
    "lst1=[10,9,8,7,6,5,4,3,2,1];\n",
    "print(lst+lst1);"
   ]
  },
  {
   "cell_type": "code",
   "execution_count": 44,
   "metadata": {},
   "outputs": [
    {
     "name": "stdout",
     "output_type": "stream",
     "text": [
      "[1, 2, 3, 4, 5]\n",
      "[1, 2, 4, 5]\n",
      "4\n",
      "[1, 2, 4, 5, 111]\n",
      "2\n",
      "[1, 2, 4, 5, 111, 1]\n",
      "3\n"
     ]
    }
   ],
   "source": [
    "lst1=[1,2,3,4,5];\n",
    "print(lst1);\n",
    "del(lst1[2]);\n",
    "print(lst1);\n",
    "print(len(lst1));\n",
    "lst1.append(111);\n",
    "print(lst1);\n",
    "lst1.append(1);\n",
    "print(lst1.count(1));\n",
    "print(lst1);\n",
    "lst1.append(2);\n",
    "lst1.append(2);\n",
    "print(lst1.count(2));"
   ]
  },
  {
   "cell_type": "code",
   "execution_count": 52,
   "metadata": {},
   "outputs": [
    {
     "name": "stdout",
     "output_type": "stream",
     "text": [
      "7\n",
      "[1, 2, 3, 4, 5, 6, [0.1, 0.2, 0.3]]\n"
     ]
    }
   ],
   "source": [
    "lst1=[1,2,3,4,5,6];\n",
    "lst2=[0.1,0.2,0.3];\n",
    "lst1.append(lst2);\n",
    "print(len(lst1));\n",
    "print(lst1);"
   ]
  },
  {
   "cell_type": "code",
   "execution_count": 63,
   "metadata": {},
   "outputs": [
    {
     "name": "stdout",
     "output_type": "stream",
     "text": [
      "['a', 'b', 'c', 'd', 'e', 'f']\n",
      "0\n",
      "6\n",
      "['a', 'b', 100, 'c', 'd', 'e', 'f']\n"
     ]
    }
   ],
   "source": [
    "lst1=[\"a\",\"b\",\"c\",\"d\",\"e\",\"f\"];\n",
    "print(lst1);\n",
    "print(lst1.index(\"a\"));\n",
    "print(len(lst1));\n",
    "lst1.insert(2,100);\n",
    "print(lst1);"
   ]
  },
  {
   "cell_type": "code",
   "execution_count": 68,
   "metadata": {},
   "outputs": [
    {
     "name": "stdout",
     "output_type": "stream",
     "text": [
      "[1, 2, 3, 1, 2, 4, 5, 6]\n",
      "[2, 3, 1, 2, 4, 5, 6]\n",
      "[2, 3, 1, 2, 5, 6]\n",
      "[6, 5, 2, 1, 3, 2]\n"
     ]
    }
   ],
   "source": [
    "lst2=[1,2,3,1,2,4,5,6];\n",
    "print(lst2);\n",
    "lst2.remove(1);\n",
    "print(lst2);\n",
    "lst2.remove(4);\n",
    "print(lst2);\n",
    "lst2.reverse();\n",
    "print(lst2);"
   ]
  },
  {
   "cell_type": "code",
   "execution_count": null,
   "metadata": {},
   "outputs": [],
   "source": []
  }
 ],
 "metadata": {
  "kernelspec": {
   "display_name": "Python 3",
   "language": "python",
   "name": "python3"
  },
  "language_info": {
   "codemirror_mode": {
    "name": "ipython",
    "version": 3
   },
   "file_extension": ".py",
   "mimetype": "text/x-python",
   "name": "python",
   "nbconvert_exporter": "python",
   "pygments_lexer": "ipython3",
   "version": "3.7.3"
  }
 },
 "nbformat": 4,
 "nbformat_minor": 2
}
