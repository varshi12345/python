{
 "cells": [
  {
   "cell_type": "code",
   "execution_count": 3,
   "metadata": {},
   "outputs": [
    {
     "name": "stdout",
     "output_type": "stream",
     "text": [
      "test\n"
     ]
    }
   ],
   "source": [
    "class classname():\n",
    "    def test(self):\n",
    "        print(\"test\");\n",
    "        return\n",
    "obj=classname()\n",
    "obj.test()"
   ]
  },
  {
   "cell_type": "code",
   "execution_count": 8,
   "metadata": {},
   "outputs": [
    {
     "name": "stdout",
     "output_type": "stream",
     "text": [
      "test() for function\n"
     ]
    }
   ],
   "source": [
    "def test():\n",
    "    print(\"test() for function\")\n",
    "    return\n",
    "test()"
   ]
  },
  {
   "cell_type": "code",
   "execution_count": 9,
   "metadata": {},
   "outputs": [
    {
     "name": "stdout",
     "output_type": "stream",
     "text": [
      "120\n"
     ]
    }
   ],
   "source": [
    "class demo1:\n",
    "    def fact(self,n):\n",
    "        fact=1;\n",
    "        while(n!=0):\n",
    "            fact=fact*n;\n",
    "            n=n-1;\n",
    "        return fact\n",
    "p1=demo1()\n",
    "print(p1.fact(5))"
   ]
  },
  {
   "cell_type": "code",
   "execution_count": 10,
   "metadata": {},
   "outputs": [
    {
     "name": "stdout",
     "output_type": "stream",
     "text": [
      "30\n"
     ]
    }
   ],
   "source": [
    "class Demo2:\n",
    "    def __init__(self,p1,p2):\n",
    "        self.p1=p2\n",
    "        self.p2=p1\n",
    "    def add(self,p1,p2):\n",
    "        return p1+p2\n",
    "c1=Demo2(10,20)\n",
    "print(c1.add(10,20))"
   ]
  },
  {
   "cell_type": "code",
   "execution_count": null,
   "metadata": {},
   "outputs": [],
   "source": [
    "#arrange()-- particular\n",
    "#numpy --arrange(start,end,step)\n",
    "#start -- value\n",
    "#end -- value\n",
    "#step --gap between one value to another value"
   ]
  },
  {
   "cell_type": "code",
   "execution_count": 12,
   "metadata": {},
   "outputs": [
    {
     "data": {
      "text/plain": [
       "array([1, 2, 3, 4, 5, 6, 7, 8, 9])"
      ]
     },
     "execution_count": 12,
     "metadata": {},
     "output_type": "execute_result"
    }
   ],
   "source": [
    "import numpy as np\n",
    "np.arange(1,10)"
   ]
  },
  {
   "cell_type": "code",
   "execution_count": 13,
   "metadata": {},
   "outputs": [
    {
     "data": {
      "text/plain": [
       "array([ 1, 10, 19, 28, 37, 46, 55, 64, 73, 82, 91])"
      ]
     },
     "execution_count": 13,
     "metadata": {},
     "output_type": "execute_result"
    }
   ],
   "source": [
    "np.arange(1,100,9)"
   ]
  },
  {
   "cell_type": "code",
   "execution_count": 14,
   "metadata": {},
   "outputs": [
    {
     "name": "stdout",
     "output_type": "stream",
     "text": [
      "FIRST ROW: [4 5 6]\n"
     ]
    }
   ],
   "source": [
    "a1=np.array([(1,2,3),(4,5,6)])\n",
    "print(\"FIRST ROW:\",a1[1])"
   ]
  },
  {
   "cell_type": "code",
   "execution_count": 16,
   "metadata": {},
   "outputs": [
    {
     "name": "stdout",
     "output_type": "stream",
     "text": [
      "FIRST COLUMN: [2 5]\n"
     ]
    }
   ],
   "source": [
    "a1=np.array([(1,2,3),(4,5,6)])\n",
    "print(\"FIRST COLUMN:\",a1[:,1])"
   ]
  },
  {
   "cell_type": "code",
   "execution_count": 17,
   "metadata": {},
   "outputs": [
    {
     "name": "stdout",
     "output_type": "stream",
     "text": [
      "FIRST COLUMN: [3 6]\n"
     ]
    }
   ],
   "source": [
    "a1=np.array([(1,2,3),(4,5,6)])\n",
    "print(\"FIRST COLUMN:\",a1[:,2])"
   ]
  },
  {
   "cell_type": "code",
   "execution_count": 19,
   "metadata": {},
   "outputs": [
    {
     "name": "stdout",
     "output_type": "stream",
     "text": [
      "FIRST ELEMENT: 2\n"
     ]
    }
   ],
   "source": [
    "a1=np.array([(1,2,3),(4,5,6)])\n",
    "print(\"FIRST ELEMENT:\",a1[0][1])"
   ]
  },
  {
   "cell_type": "code",
   "execution_count": null,
   "metadata": {},
   "outputs": [],
   "source": [
    "#SOME MATH OPERATIONS ON THE GIVEN RANDOM NUMBERS\n",
    "#MIN     --returns the least no.\n",
    "#MAX     --returns the large no.\n",
    "#MEAN    --mean\n",
    "#MEDIAN  --median"
   ]
  },
  {
   "cell_type": "code",
   "execution_count": 20,
   "metadata": {},
   "outputs": [
    {
     "name": "stdout",
     "output_type": "stream",
     "text": [
      "[3.02825886 5.81267203 4.98497646 5.13227353 5.33235732 5.85470965\n",
      " 3.02573372 4.3851351  4.37101871 5.60471182]\n"
     ]
    }
   ],
   "source": [
    "a1=np.random.normal(5,1,10)\n",
    "print(a1)"
   ]
  },
  {
   "cell_type": "code",
   "execution_count": 21,
   "metadata": {},
   "outputs": [
    {
     "name": "stdout",
     "output_type": "stream",
     "text": [
      "[3.13281268 6.80341019 4.56272357 3.41127921 5.50651587 3.92490148\n",
      " 7.08079645 4.72529153 3.32446358 4.49492452]\n",
      "Minvalue= 3.13281267762852\n",
      "Maxvalue= 7.080796449723348\n",
      "Meanvalue= 4.696711908415774\n",
      "Medianvalue= 4.528824045816064\n"
     ]
    }
   ],
   "source": [
    "a1=np.random.normal(5,1,10)\n",
    "print(a1)\n",
    "print(\"Minvalue=\",np.min(a1))\n",
    "print(\"Maxvalue=\",np.max(a1))\n",
    "print(\"Meanvalue=\",np.mean(a1))\n",
    "print(\"Medianvalue=\",np.median(a1))"
   ]
  },
  {
   "cell_type": "code",
   "execution_count": 22,
   "metadata": {},
   "outputs": [
    {
     "data": {
      "text/plain": [
       "14"
      ]
     },
     "execution_count": 22,
     "metadata": {},
     "output_type": "execute_result"
    }
   ],
   "source": [
    "#MULTIPLICATION OF 1D ARRAYS\n",
    "#numpy.dot(x,y) --\n",
    "c1=np.array([1,2])\n",
    "c2=np.array([4,5])\n",
    "np.dot(c1,c2)"
   ]
  },
  {
   "cell_type": "code",
   "execution_count": 24,
   "metadata": {},
   "outputs": [
    {
     "data": {
      "text/plain": [
       "array([[10,  9],\n",
       "       [27, 25]])"
      ]
     },
     "execution_count": 24,
     "metadata": {},
     "output_type": "execute_result"
    }
   ],
   "source": [
    "c1=np.array([(1,2),(3,5)])\n",
    "c2=np.array([(4,5),(3,2)])\n",
    "np.dot(c1,c2)"
   ]
  },
  {
   "cell_type": "code",
   "execution_count": 26,
   "metadata": {},
   "outputs": [
    {
     "data": {
      "text/plain": [
       "array([[10,  9],\n",
       "       [27, 25]])"
      ]
     },
     "execution_count": 26,
     "metadata": {},
     "output_type": "execute_result"
    }
   ],
   "source": [
    "b1=np.array([(1,2),(3,5)])\n",
    "b2=np.array([(4,5),(3,2)])\n",
    "np.matmul(c1,c2)"
   ]
  },
  {
   "cell_type": "code",
   "execution_count": 1,
   "metadata": {},
   "outputs": [
    {
     "name": "stdout",
     "output_type": "stream",
     "text": [
      "     name          email id    mobileno. address\n",
      "0    Anil    anil@gmail.com  90909090903     hyd\n",
      "1   Akhil   akhil@gmail.com   9879587567     hyd\n",
      "2  Dinesh  dinesh@gmail.com   9865475364     hyd\n",
      "3  Harsha  harsha@gmail.com  96755463746     hyd\n",
      "4    Ajay    ajay@gmail.com  98675464847     hyd\n",
      "5  Kranth  kranth@gmail.com   9856434256     hyd\n"
     ]
    }
   ],
   "source": [
    "import pandas as pd\n",
    "dict = {\"name\":[\"Anil\",\"Akhil\",\"Dinesh\",\"Harsha\",\"Ajay\",\"Kranth\"],\n",
    "       \"email id\":[\"anil@gmail.com\",\"akhil@gmail.com\",\"dinesh@gmail.com\",\"harsha@gmail.com\",\"ajay@gmail.com\",\"kranth@gmail.com\"],\n",
    "        \"mobileno.\":[\"90909090903\",\"9879587567\",\"9865475364\",\"96755463746\",\"98675464847\",\"9856434256\"],\n",
    "        \"address\":[\"hyd\",\"hyd\",\"hyd\",\"hyd\",\"hyd\",\"hyd\"]}\n",
    "b=pd.DataFrame(dict)\n",
    "print(b)"
   ]
  },
  {
   "cell_type": "code",
   "execution_count": null,
   "metadata": {},
   "outputs": [],
   "source": []
  }
 ],
 "metadata": {
  "kernelspec": {
   "display_name": "Python 3",
   "language": "python",
   "name": "python3"
  },
  "language_info": {
   "codemirror_mode": {
    "name": "ipython",
    "version": 3
   },
   "file_extension": ".py",
   "mimetype": "text/x-python",
   "name": "python",
   "nbconvert_exporter": "python",
   "pygments_lexer": "ipython3",
   "version": "3.7.3"
  }
 },
 "nbformat": 4,
 "nbformat_minor": 2
}
